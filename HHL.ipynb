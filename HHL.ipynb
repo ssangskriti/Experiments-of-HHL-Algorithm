{
  "nbformat": 4,
  "nbformat_minor": 0,
  "metadata": {
    "colab": {
      "name": "HHL.ipynb",
      "version": "0.3.2",
      "provenance": []
    },
    "kernelspec": {
      "name": "python3",
      "display_name": "Python 3"
    },
    "accelerator": "GPU"
  },
  "cells": [
    {
      "cell_type": "markdown",
      "metadata": {
        "id": "l1F9i5IB6lsa",
        "colab_type": "text"
      },
      "source": [
        "# Install Qiskit and Import Packages"
      ]
    },
    {
      "cell_type": "code",
      "metadata": {
        "id": "f26BL514jLIU",
        "colab_type": "code",
        "outputId": "9aef5da3-7bbf-4ff7-dc4c-5662be613d77",
        "colab": {
          "base_uri": "https://localhost:8080/",
          "height": 1000
        }
      },
      "source": [
        "!pip3 install qiskit\n",
        "\n",
        "import qiskit\n",
        "from qiskit.aqua import run_algorithm\n",
        "from qiskit.aqua.input import LinearSystemInput\n",
        "from qiskit.quantum_info import state_fidelity\n",
        "from qiskit.aqua.algorithms.classical import ExactLSsolver\n",
        "\n",
        "from qiskit import BasicAer\n",
        "from qiskit.aqua import QuantumInstance\n",
        "from qiskit.aqua.algorithms.single_sample import HHL\n",
        "from qiskit.aqua.utils import random_hermitian\n",
        "\n",
        "import numpy as np\n",
        "import scipy.stats as stats\n",
        "import scipy.sparse as sparse\n",
        "import matplotlib.pyplot as plt\n",
        "\n",
        "np.random.seed(43)"
      ],
      "execution_count": 0,
      "outputs": [
        {
          "output_type": "stream",
          "text": [
            "Collecting qiskit\n",
            "  Downloading https://files.pythonhosted.org/packages/f7/fc/196a47ecabf3e79c5d2e473e1ed913e5391fa3a65bd7a723966936d8d248/qiskit-0.11.1.tar.gz\n",
            "Collecting qiskit_terra==0.8.2 (from qiskit)\n",
            "\u001b[?25l  Downloading https://files.pythonhosted.org/packages/71/52/ebfa1c41722ae5e04d2456677e6d492373d9b28eca5cdf86b8f2981b1e21/qiskit_terra-0.8.2-cp36-cp36m-manylinux1_x86_64.whl (1.5MB)\n",
            "\u001b[K     |████████████████████████████████| 1.5MB 5.0MB/s \n",
            "\u001b[?25hCollecting qiskit-aer==0.2.3 (from qiskit)\n",
            "\u001b[?25l  Downloading https://files.pythonhosted.org/packages/1c/f6/10bb8a7b8939623a5ffedc844f7bba535b00a014292a58a82893e966bbde/qiskit_aer-0.2.3-cp36-cp36m-manylinux1_x86_64.whl (21.3MB)\n",
            "\u001b[K     |████████████████████████████████| 21.3MB 1.7MB/s \n",
            "\u001b[?25hCollecting qiskit-ibmq-provider==0.3.1 (from qiskit)\n",
            "\u001b[?25l  Downloading https://files.pythonhosted.org/packages/b7/8b/dca61d15a0bb0640e261d913779b86e4386a00bc25499ed8aad12b6657a6/qiskit-ibmq-provider-0.3.1.tar.gz (57kB)\n",
            "\u001b[K     |████████████████████████████████| 61kB 29.3MB/s \n",
            "\u001b[?25hCollecting qiskit-ignis==0.1.1 (from qiskit)\n",
            "\u001b[?25l  Downloading https://files.pythonhosted.org/packages/6e/4e/77230b3a51a864fd54c2ef7b6a0d417063cf4b18943ce8fcd45e15f74f3e/qiskit_ignis-0.1.1-py3-none-any.whl (78kB)\n",
            "\u001b[K     |████████████████████████████████| 81kB 29.2MB/s \n",
            "\u001b[?25hCollecting qiskit-aqua==0.5.3 (from qiskit)\n",
            "\u001b[?25l  Downloading https://files.pythonhosted.org/packages/c1/a8/6d99ec845a47656bf8374f6d7bf99ffecc7baa35a25c1ce7e54b2773c500/qiskit_aqua-0.5.3-py3-none-any.whl (401kB)\n",
            "\u001b[K     |████████████████████████████████| 409kB 57.2MB/s \n",
            "\u001b[?25hCollecting qiskit-chemistry==0.5.0 (from qiskit)\n",
            "\u001b[?25l  Downloading https://files.pythonhosted.org/packages/41/35/6b10aa3ea2fbe1b64cb0c3b2eaecb23cff044b574b151e8adc9ab9fbfe9a/qiskit_chemistry-0.5.0-py3-none-any.whl (516kB)\n",
            "\u001b[K     |████████████████████████████████| 522kB 57.7MB/s \n",
            "\u001b[?25hRequirement already satisfied: networkx>=2.2 in /usr/local/lib/python3.6/dist-packages (from qiskit_terra==0.8.2->qiskit) (2.3)\n",
            "Requirement already satisfied: scipy>=1.0 in /usr/local/lib/python3.6/dist-packages (from qiskit_terra==0.8.2->qiskit) (1.3.1)\n",
            "Collecting marshmallow<3,>=2.17.0 (from qiskit_terra==0.8.2->qiskit)\n",
            "\u001b[?25l  Downloading https://files.pythonhosted.org/packages/7e/eb/6ba57915a0c4b5eabb8112433f50d9862354fe13ae69d7bd102452a1c2ac/marshmallow-2.20.1-py2.py3-none-any.whl (50kB)\n",
            "\u001b[K     |████████████████████████████████| 51kB 23.3MB/s \n",
            "\u001b[?25hRequirement already satisfied: pillow>=4.2.1 in /usr/local/lib/python3.6/dist-packages (from qiskit_terra==0.8.2->qiskit) (4.3.0)\n",
            "Collecting ply>=3.10 (from qiskit_terra==0.8.2->qiskit)\n",
            "\u001b[?25l  Downloading https://files.pythonhosted.org/packages/a3/58/35da89ee790598a0700ea49b2a66594140f44dec458c07e8e3d4979137fc/ply-3.11-py2.py3-none-any.whl (49kB)\n",
            "\u001b[K     |████████████████████████████████| 51kB 24.6MB/s \n",
            "\u001b[?25hRequirement already satisfied: jsonschema<2.7,>=2.6 in /usr/local/lib/python3.6/dist-packages (from qiskit_terra==0.8.2->qiskit) (2.6.0)\n",
            "Collecting marshmallow-polyfield<4,>=3.2 (from qiskit_terra==0.8.2->qiskit)\n",
            "  Downloading https://files.pythonhosted.org/packages/fa/ba/6406b8cce3e42b2838d234310c3605627083bbb8f71dcc312c616480fe92/marshmallow_polyfield-3.2-py2.py3-none-any.whl\n",
            "Requirement already satisfied: psutil>=5 in /usr/local/lib/python3.6/dist-packages (from qiskit_terra==0.8.2->qiskit) (5.4.8)\n",
            "Collecting pylatexenc>=1.4 (from qiskit_terra==0.8.2->qiskit)\n",
            "\u001b[?25l  Downloading https://files.pythonhosted.org/packages/2d/44/93573fef5cb46842ce9a87548008bea92c8f7523c7c2152cfdffee269ed5/pylatexenc-1.5.tar.gz (47kB)\n",
            "\u001b[K     |████████████████████████████████| 51kB 27.8MB/s \n",
            "\u001b[?25hRequirement already satisfied: numpy>=1.13 in /usr/local/lib/python3.6/dist-packages (from qiskit_terra==0.8.2->qiskit) (1.16.4)\n",
            "Collecting sympy>=1.3 (from qiskit_terra==0.8.2->qiskit)\n",
            "\u001b[?25l  Downloading https://files.pythonhosted.org/packages/21/21/f4105795ca7f35c541d82c5b06be684dd2f5cb4f508fb487cd7aea4de776/sympy-1.4-py2.py3-none-any.whl (5.3MB)\n",
            "\u001b[K     |████████████████████████████████| 5.3MB 38.5MB/s \n",
            "\u001b[?25hCollecting nest-asyncio>=1.0.0 (from qiskit-ibmq-provider==0.3.1->qiskit)\n",
            "  Downloading https://files.pythonhosted.org/packages/09/82/76dfcb16ba761a70bc89d93c6af2d13c1677f04bb8fa70213685ee071588/nest_asyncio-1.1.0-py3-none-any.whl\n",
            "Requirement already satisfied: requests>=2.19 in /usr/local/lib/python3.6/dist-packages (from qiskit-ibmq-provider==0.3.1->qiskit) (2.21.0)\n",
            "Collecting requests-ntlm>=1.1.0 (from qiskit-ibmq-provider==0.3.1->qiskit)\n",
            "  Downloading https://files.pythonhosted.org/packages/03/4b/8b9a1afde8072c4d5710d9fa91433d504325821b038e00237dc8d6d833dc/requests_ntlm-1.1.0-py2.py3-none-any.whl\n",
            "Collecting websockets<8,>=7 (from qiskit-ibmq-provider==0.3.1->qiskit)\n",
            "\u001b[?25l  Downloading https://files.pythonhosted.org/packages/43/71/8bfa882b9c502c36e5c9ef6732969533670d2b039cbf95a82ced8f762b80/websockets-7.0-cp36-cp36m-manylinux1_x86_64.whl (63kB)\n",
            "\u001b[K     |████████████████████████████████| 71kB 29.5MB/s \n",
            "\u001b[?25hRequirement already satisfied: cvxopt in /usr/local/lib/python3.6/dist-packages (from qiskit-aqua==0.5.3->qiskit) (1.2.3)\n",
            "Collecting dlx (from qiskit-aqua==0.5.3->qiskit)\n",
            "  Downloading https://files.pythonhosted.org/packages/54/c0/b8fb5bb727e983b6f5251433ef941b48f38c65bb0bd6ec509e9185bcd406/dlx-1.0.4.tar.gz\n",
            "Requirement already satisfied: fastdtw in /usr/local/lib/python3.6/dist-packages (from qiskit-aqua==0.5.3->qiskit) (0.3.2)\n",
            "Collecting quandl (from qiskit-aqua==0.5.3->qiskit)\n",
            "  Downloading https://files.pythonhosted.org/packages/12/64/6314547cb01fa75697ddba6d6d43a9f1d023c1730ffc6abf3db7a0c89222/Quandl-3.4.8-py2.py3-none-any.whl\n",
            "Requirement already satisfied: setuptools>=40.1.0 in /usr/local/lib/python3.6/dist-packages (from qiskit-aqua==0.5.3->qiskit) (41.0.1)\n",
            "Collecting docplex (from qiskit-aqua==0.5.3->qiskit)\n",
            "\u001b[?25l  Downloading https://files.pythonhosted.org/packages/3a/d2/0da1653b2448ff4eb93a7d31cfeec8502eec756e79ac74db8215b1b3bd65/docplex-2.10.154.tar.gz (529kB)\n",
            "\u001b[K     |████████████████████████████████| 532kB 44.3MB/s \n",
            "\u001b[?25hRequirement already satisfied: scikit-learn>=0.20.0 in /usr/local/lib/python3.6/dist-packages (from qiskit-aqua==0.5.3->qiskit) (0.21.3)\n",
            "Requirement already satisfied: h5py in /usr/local/lib/python3.6/dist-packages (from qiskit-chemistry==0.5.0->qiskit) (2.8.0)\n",
            "Collecting pyscf; sys_platform != \"win32\" (from qiskit-chemistry==0.5.0->qiskit)\n",
            "\u001b[?25l  Downloading https://files.pythonhosted.org/packages/32/68/4ed8ee5f0d6befde0a7a345a359fee0958ab5ae82bef62ddefa974458efa/pyscf-1.6.3-cp36-cp36m-manylinux1_x86_64.whl (21.5MB)\n",
            "\u001b[K     |████████████████████████████████| 21.5MB 32.3MB/s \n",
            "\u001b[?25hRequirement already satisfied: decorator>=4.3.0 in /usr/local/lib/python3.6/dist-packages (from networkx>=2.2->qiskit_terra==0.8.2->qiskit) (4.4.0)\n",
            "Requirement already satisfied: olefile in /usr/local/lib/python3.6/dist-packages (from pillow>=4.2.1->qiskit_terra==0.8.2->qiskit) (0.46)\n",
            "Requirement already satisfied: mpmath>=0.19 in /usr/local/lib/python3.6/dist-packages (from sympy>=1.3->qiskit_terra==0.8.2->qiskit) (1.1.0)\n",
            "Requirement already satisfied: urllib3<1.25,>=1.21.1 in /usr/local/lib/python3.6/dist-packages (from requests>=2.19->qiskit-ibmq-provider==0.3.1->qiskit) (1.24.3)\n",
            "Requirement already satisfied: idna<2.9,>=2.5 in /usr/local/lib/python3.6/dist-packages (from requests>=2.19->qiskit-ibmq-provider==0.3.1->qiskit) (2.8)\n",
            "Requirement already satisfied: certifi>=2017.4.17 in /usr/local/lib/python3.6/dist-packages (from requests>=2.19->qiskit-ibmq-provider==0.3.1->qiskit) (2019.6.16)\n",
            "Requirement already satisfied: chardet<3.1.0,>=3.0.2 in /usr/local/lib/python3.6/dist-packages (from requests>=2.19->qiskit-ibmq-provider==0.3.1->qiskit) (3.0.4)\n",
            "Collecting ntlm-auth>=1.0.2 (from requests-ntlm>=1.1.0->qiskit-ibmq-provider==0.3.1->qiskit)\n",
            "  Downloading https://files.pythonhosted.org/packages/d5/3d/1c54e92f62bbc747a638da94adb439f99dc2d2f3041fe41a06b0da4f2808/ntlm_auth-1.3.0-py2.py3-none-any.whl\n",
            "Collecting cryptography>=1.3 (from requests-ntlm>=1.1.0->qiskit-ibmq-provider==0.3.1->qiskit)\n",
            "\u001b[?25l  Downloading https://files.pythonhosted.org/packages/97/18/c6557f63a6abde34707196fb2cad1c6dc0dbff25a200d5044922496668a4/cryptography-2.7-cp34-abi3-manylinux1_x86_64.whl (2.3MB)\n",
            "\u001b[K     |████████████████████████████████| 2.3MB 42.8MB/s \n",
            "\u001b[?25hRequirement already satisfied: pandas>=0.14 in /usr/local/lib/python3.6/dist-packages (from quandl->qiskit-aqua==0.5.3->qiskit) (0.24.2)\n",
            "Requirement already satisfied: pyasn1 in /usr/local/lib/python3.6/dist-packages (from quandl->qiskit-aqua==0.5.3->qiskit) (0.4.6)\n",
            "Collecting pyOpenSSL (from quandl->qiskit-aqua==0.5.3->qiskit)\n",
            "\u001b[?25l  Downloading https://files.pythonhosted.org/packages/01/c8/ceb170d81bd3941cbeb9940fc6cc2ef2ca4288d0ca8929ea4db5905d904d/pyOpenSSL-19.0.0-py2.py3-none-any.whl (53kB)\n",
            "\u001b[K     |████████████████████████████████| 61kB 32.5MB/s \n",
            "\u001b[?25hRequirement already satisfied: six in /usr/local/lib/python3.6/dist-packages (from quandl->qiskit-aqua==0.5.3->qiskit) (1.12.0)\n",
            "Requirement already satisfied: python-dateutil in /usr/local/lib/python3.6/dist-packages (from quandl->qiskit-aqua==0.5.3->qiskit) (2.5.3)\n",
            "Collecting inflection>=0.3.1 (from quandl->qiskit-aqua==0.5.3->qiskit)\n",
            "  Downloading https://files.pythonhosted.org/packages/d5/35/a6eb45b4e2356fe688b21570864d4aa0d0a880ce387defe9c589112077f8/inflection-0.3.1.tar.gz\n",
            "Collecting more-itertools<=5.0.0 (from quandl->qiskit-aqua==0.5.3->qiskit)\n",
            "\u001b[?25l  Downloading https://files.pythonhosted.org/packages/a4/a6/42f17d065bda1fac255db13afc94c93dbfb64393eae37c749b4cb0752fc7/more_itertools-5.0.0-py3-none-any.whl (52kB)\n",
            "\u001b[K     |████████████████████████████████| 61kB 27.6MB/s \n",
            "\u001b[?25hCollecting ndg-httpsclient (from quandl->qiskit-aqua==0.5.3->qiskit)\n",
            "  Downloading https://files.pythonhosted.org/packages/fb/67/c2f508c00ed2a6911541494504b7cac16fe0b0473912568df65fd1801132/ndg_httpsclient-0.5.1-py3-none-any.whl\n",
            "Collecting docloud>=1.0.369 (from docplex->qiskit-aqua==0.5.3->qiskit)\n",
            "  Downloading https://files.pythonhosted.org/packages/89/1c/fcb7ea86ae5cb7137a22f00bcaa785de2d102bd4a2b16383ec4a877a835b/docloud-1.0.375.tar.gz\n",
            "Requirement already satisfied: joblib>=0.11 in /usr/local/lib/python3.6/dist-packages (from scikit-learn>=0.20.0->qiskit-aqua==0.5.3->qiskit) (0.13.2)\n",
            "Collecting asn1crypto>=0.21.0 (from cryptography>=1.3->requests-ntlm>=1.1.0->qiskit-ibmq-provider==0.3.1->qiskit)\n",
            "\u001b[?25l  Downloading https://files.pythonhosted.org/packages/ea/cd/35485615f45f30a510576f1a56d1e0a7ad7bd8ab5ed7cdc600ef7cd06222/asn1crypto-0.24.0-py2.py3-none-any.whl (101kB)\n",
            "\u001b[K     |████████████████████████████████| 102kB 34.2MB/s \n",
            "\u001b[?25hRequirement already satisfied: cffi!=1.11.3,>=1.8 in /usr/local/lib/python3.6/dist-packages (from cryptography>=1.3->requests-ntlm>=1.1.0->qiskit-ibmq-provider==0.3.1->qiskit) (1.12.3)\n",
            "Requirement already satisfied: pytz>=2011k in /usr/local/lib/python3.6/dist-packages (from pandas>=0.14->quandl->qiskit-aqua==0.5.3->qiskit) (2018.9)\n",
            "Requirement already satisfied: pycparser in /usr/local/lib/python3.6/dist-packages (from cffi!=1.11.3,>=1.8->cryptography>=1.3->requests-ntlm>=1.1.0->qiskit-ibmq-provider==0.3.1->qiskit) (2.19)\n",
            "Building wheels for collected packages: qiskit, qiskit-ibmq-provider, pylatexenc, dlx, docplex, inflection, docloud\n",
            "  Building wheel for qiskit (setup.py) ... \u001b[?25l\u001b[?25hdone\n",
            "  Created wheel for qiskit: filename=qiskit-0.11.1-cp36-none-any.whl size=1409 sha256=731b909162a39d44919764450e3c2b77fdd21be92be827710915b4ca96d5683c\n",
            "  Stored in directory: /root/.cache/pip/wheels/74/10/80/b6ff25b6c7a3845d56d35c01da215d038a8c49a0e09e01253d\n",
            "  Building wheel for qiskit-ibmq-provider (setup.py) ... \u001b[?25l\u001b[?25hdone\n",
            "  Created wheel for qiskit-ibmq-provider: filename=qiskit_ibmq_provider-0.3.1-cp36-none-any.whl size=85640 sha256=e17f713c46ce794fc9506afe0d58d649a07aa09d459d5201ce59db60ad03e76f\n",
            "  Stored in directory: /root/.cache/pip/wheels/a8/3b/bb/e9dac1a073a8df6a00cb32e7a0af0685d660a4880cc83c491e\n",
            "  Building wheel for pylatexenc (setup.py) ... \u001b[?25l\u001b[?25hdone\n",
            "  Created wheel for pylatexenc: filename=pylatexenc-1.5-cp36-none-any.whl size=44229 sha256=5691817b5c114b72488dc411de6a866fdbb6aa0856fd9fd25836e71da8b4e1aa\n",
            "  Stored in directory: /root/.cache/pip/wheels/da/d1/f1/fa2d005ecda8836039af952de8f4bf1defd42fe385027b6f52\n",
            "  Building wheel for dlx (setup.py) ... \u001b[?25l\u001b[?25hdone\n",
            "  Created wheel for dlx: filename=dlx-1.0.4-cp36-none-any.whl size=5710 sha256=03533e3a5ebf9f3671febad12fe68033f8243580628f90f9f362d69eb147ac9f\n",
            "  Stored in directory: /root/.cache/pip/wheels/bb/ba/15/fdd0deb104df3254912998150ba9245668db06b00af5912d1a\n",
            "  Building wheel for docplex (setup.py) ... \u001b[?25l\u001b[?25hdone\n",
            "  Created wheel for docplex: filename=docplex-2.10.154-cp36-none-any.whl size=591438 sha256=daf2102395a0e925bdb5bd4466f4e4fbe796be94ac4723780bdcbdf558592416\n",
            "  Stored in directory: /root/.cache/pip/wheels/5d/27/dd/9ee8195bca0c628f6356cf57bc9e7dbd60b80265b74203d329\n",
            "  Building wheel for inflection (setup.py) ... \u001b[?25l\u001b[?25hdone\n",
            "  Created wheel for inflection: filename=inflection-0.3.1-cp36-none-any.whl size=6077 sha256=e0ef5935af9d4b6586f9b57126477841927ab0df022fd712b59dc095d094c44b\n",
            "  Stored in directory: /root/.cache/pip/wheels/9f/5a/d3/6fc3bf6516d2a3eb7e18f9f28b472110b59325f3f258fe9211\n",
            "  Building wheel for docloud (setup.py) ... \u001b[?25l\u001b[?25hdone\n",
            "  Created wheel for docloud: filename=docloud-1.0.375-cp36-none-any.whl size=19479 sha256=89068e63cb4ea1d464512e82b7c96c9468ca95c5d0441ddd098d9589fc975538\n",
            "  Stored in directory: /root/.cache/pip/wheels/4e/24/19/9b0e57545d7543ecec35c5faff78c058bf0c2506369c8b1d31\n",
            "Successfully built qiskit qiskit-ibmq-provider pylatexenc dlx docplex inflection docloud\n",
            "\u001b[31mERROR: datascience 0.10.6 has requirement folium==0.2.1, but you'll have folium 0.8.3 which is incompatible.\u001b[0m\n",
            "Installing collected packages: marshmallow, ply, marshmallow-polyfield, pylatexenc, sympy, qiskit-terra, qiskit-aer, nest-asyncio, ntlm-auth, asn1crypto, cryptography, requests-ntlm, websockets, qiskit-ibmq-provider, qiskit-ignis, dlx, pyOpenSSL, inflection, more-itertools, ndg-httpsclient, quandl, docloud, docplex, qiskit-aqua, pyscf, qiskit-chemistry, qiskit\n",
            "  Found existing installation: sympy 1.1.1\n",
            "    Uninstalling sympy-1.1.1:\n",
            "      Successfully uninstalled sympy-1.1.1\n",
            "  Found existing installation: more-itertools 7.2.0\n",
            "    Uninstalling more-itertools-7.2.0:\n",
            "      Successfully uninstalled more-itertools-7.2.0\n",
            "Successfully installed asn1crypto-0.24.0 cryptography-2.7 dlx-1.0.4 docloud-1.0.375 docplex-2.10.154 inflection-0.3.1 marshmallow-2.20.1 marshmallow-polyfield-3.2 more-itertools-5.0.0 ndg-httpsclient-0.5.1 nest-asyncio-1.1.0 ntlm-auth-1.3.0 ply-3.11 pyOpenSSL-19.0.0 pylatexenc-1.5 pyscf-1.6.3 qiskit-0.11.1 qiskit-aer-0.2.3 qiskit-aqua-0.5.3 qiskit-chemistry-0.5.0 qiskit-ibmq-provider-0.3.1 qiskit-ignis-0.1.1 qiskit-terra-0.8.2 quandl-3.4.8 requests-ntlm-1.1.0 sympy-1.4 websockets-7.0\n"
          ],
          "name": "stdout"
        }
      ]
    },
    {
      "cell_type": "markdown",
      "metadata": {
        "id": "nQx1Ra9O5WEM",
        "colab_type": "text"
      },
      "source": [
        "# Create Random Sparse Hermitian Matrix\n"
      ]
    },
    {
      "cell_type": "code",
      "metadata": {
        "id": "2PPbAW5xMEp5",
        "colab_type": "code",
        "colab": {}
      },
      "source": [
        "def random_sparse_matrix(n, density):        # Generate Random Sparse Matrix of N*N shape and given density \n",
        "    rvs = stats.norm().rvs\n",
        "    X = sparse.random(n, n, density=density, data_rvs=rvs)\n",
        "    upper_X = sparse.triu(X) \n",
        "    result = upper_X + upper_X.T - sparse.diags(X.diagonal())\n",
        "    assert (result - result.T).nnz == 0      # check that the matrix is symmetric. The difference should have no non-zero elements\n",
        "    return result\n",
        "\n",
        "\n",
        "def random_sparse_hermitian_matrix(n,density):\n",
        "    M = random_sparse_matrix(n,density)\n",
        "    A = M.toarray()\n",
        "    B = A + A.conj().T    # a matrix plus it's hermitian is a hermitian matrix\n",
        "    return B \n",
        "\n",
        "ele = []\n",
        "\n",
        "def elements(el):                            # this function will keep the information about all outputs generated later\n",
        "    ele.append(el)"
      ],
      "execution_count": 0,
      "outputs": []
    },
    {
      "cell_type": "markdown",
      "metadata": {
        "id": "XCEshFcbQFLw",
        "colab_type": "text"
      },
      "source": [
        "# Solving linear systems of equations with the HHL algorithm"
      ]
    },
    {
      "cell_type": "code",
      "metadata": {
        "id": "ODJOsW72iVga",
        "colab_type": "code",
        "colab": {}
      },
      "source": [
        "def print_circuit_depth_and_width(result):\n",
        "    print(\"Circuit_width: \", result['circuit_info']['width'])\n",
        "    print(\"Circuit_depth: \", result['circuit_info']['depth'])\n",
        "    return (result['circuit_info']['width'],result['circuit_info']['depth'])\n",
        "\n",
        "def fidelity(hhl, ref):\n",
        "    solution_hhl_normed = hhl / np.linalg.norm(hhl)\n",
        "    solution_ref_normed = ref / np.linalg.norm(ref)\n",
        "    fidelity = state_fidelity(solution_hhl_normed, solution_ref_normed)\n",
        "    print(\"fidelity %f\" % fidelity)\n",
        "    return fidelity"
      ],
      "execution_count": 0,
      "outputs": []
    },
    {
      "cell_type": "code",
      "metadata": {
        "id": "KH2JCZEVQJZk",
        "colab_type": "code",
        "colab": {}
      },
      "source": [
        "params = {\n",
        "    'problem': {\n",
        "        'name': 'linear_system'\n",
        "    },\n",
        "    'algorithm': {\n",
        "        'name': 'HHL'\n",
        "    },\n",
        "    'eigs': {\n",
        "        'expansion_mode': 'suzuki',\n",
        "        'expansion_order': 2,\n",
        "        'name': 'EigsQPE',\n",
        "        'num_ancillae': 3,\n",
        "        'num_time_slices': 50\n",
        "    },\n",
        "    'reciprocal': {\n",
        "        'name': 'Lookup'\n",
        "    },\n",
        "    'backend': {\n",
        "        'provider': 'qiskit.BasicAer',\n",
        "        'name': 'statevector_simulator'\n",
        "    }\n",
        "}"
      ],
      "execution_count": 0,
      "outputs": []
    },
    {
      "cell_type": "markdown",
      "metadata": {
        "id": "rMdPgVHjmL1P",
        "colab_type": "text"
      },
      "source": [
        "## 2*2 Diagonal Matrix"
      ]
    },
    {
      "cell_type": "code",
      "metadata": {
        "id": "VoEEI7UEQnox",
        "colab_type": "code",
        "colab": {}
      },
      "source": [
        "matrix = [[1, 0], [0, 2]]\n",
        "vector = [1, 4]\n",
        "params['input'] = {\n",
        "    'name': 'LinearSystemInput',\n",
        "    'matrix': matrix,\n",
        "    'vector': vector\n",
        "}"
      ],
      "execution_count": 0,
      "outputs": []
    },
    {
      "cell_type": "code",
      "metadata": {
        "id": "5a_ENP86aEFd",
        "colab_type": "code",
        "outputId": "f7087b75-e018-4abe-97c5-bb28c180a1d5",
        "colab": {
          "base_uri": "https://localhost:8080/",
          "height": 171
        }
      },
      "source": [
        "result = run_algorithm(params)\n",
        "print(\"solution \", np.round(result['solution'], 5))\n",
        "\n",
        "result_ref = ExactLSsolver(matrix, vector).run()\n",
        "print(\"classical solution \", np.round(result_ref['solution'], 5))\n",
        "\n",
        "print(\"probability %f\" % result['probability_result'])\n",
        "fid = fidelity(result['solution'], result_ref['solution'])"
      ],
      "execution_count": 0,
      "outputs": [
        {
          "output_type": "stream",
          "text": [
            "/usr/local/lib/python3.6/dist-packages/qiskit/providers/ibmq/ibmqfactory.py:547: DeprecationWarning: IBMQ.backends() is being deprecated. Please use IBMQ.get_provider() to retrieve a provider and AccountProvider.backends() to find its backends.\n",
            "  DeprecationWarning)\n",
            "/usr/local/lib/python3.6/dist-packages/qiskit/providers/ibmq/ibmqfactory.py:547: DeprecationWarning: IBMQ.backends() is being deprecated. Please use IBMQ.get_provider() to retrieve a provider and AccountProvider.backends() to find its backends.\n",
            "  DeprecationWarning)\n"
          ],
          "name": "stderr"
        },
        {
          "output_type": "stream",
          "text": [
            "solution  [1.05859+0.j 1.99245+0.j]\n",
            "classical solution  [1. 2.]\n",
            "probability 0.024630\n",
            "fidelity 0.999389\n"
          ],
          "name": "stdout"
        }
      ]
    },
    {
      "cell_type": "code",
      "metadata": {
        "id": "A6Sj6QjPuT1z",
        "colab_type": "code",
        "outputId": "872d75ec-ebe2-46c4-f052-3fa97b9d4829",
        "colab": {
          "base_uri": "https://localhost:8080/",
          "height": 50
        }
      },
      "source": [
        "circ = print_circuit_depth_and_width(result)"
      ],
      "execution_count": 0,
      "outputs": [
        {
          "output_type": "stream",
          "text": [
            "Circuit_width:  7\n",
            "Circuit_depth:  12256\n"
          ],
          "name": "stdout"
        }
      ]
    },
    {
      "cell_type": "code",
      "metadata": {
        "id": "wiEPJHi-rIs6",
        "colab_type": "code",
        "colab": {}
      },
      "source": [
        "# make the dictionary of the matrix\n",
        "\n",
        "diagonal_params_2 = {\n",
        "    'Probability': result['probability_result'],\n",
        "    'Fidelity': fid,\n",
        "    'Circuit': circ,\n",
        "    'Name': 'diagonal_params_2'\n",
        "}\n",
        "\n",
        "elements(diagonal_params_2)"
      ],
      "execution_count": 0,
      "outputs": []
    },
    {
      "cell_type": "markdown",
      "metadata": {
        "id": "_cKsSfsmmde6",
        "colab_type": "text"
      },
      "source": [
        "## 2*2 non-diagonal matrix"
      ]
    },
    {
      "cell_type": "code",
      "metadata": {
        "id": "CLd_SnkSt06I",
        "colab_type": "code",
        "colab": {}
      },
      "source": [
        "matrix = [[1, 3], [3, 2]]\n",
        "vector = [1, 1]\n",
        "\n",
        "params3 = params\n",
        "params3['input'] = {\n",
        "    'name': 'LinearSystemInput',\n",
        "    'matrix': matrix,\n",
        "    'vector': vector\n",
        "}\n",
        "params3['reciprocal'] = {\n",
        "    'negative_evals': True\n",
        "}\n",
        "params3['eigs'] = {\n",
        "    'negative_evals': True\n",
        "}"
      ],
      "execution_count": 0,
      "outputs": []
    },
    {
      "cell_type": "code",
      "metadata": {
        "id": "oefsHRXyt8YW",
        "colab_type": "code",
        "outputId": "de6c4642-7170-4777-fcad-f7291739db18",
        "colab": {
          "base_uri": "https://localhost:8080/",
          "height": 171
        }
      },
      "source": [
        "result = run_algorithm(params3)\n",
        "print(\"solution \", np.round(result['solution'], 5))\n",
        "\n",
        "result_ref = ExactLSsolver(matrix, vector).run()\n",
        "print(\"classical solution \", np.round(result_ref['solution'], 5))\n",
        "\n",
        "print(\"probability %f\" % result['probability_result'])\n",
        "fid = fidelity(result['solution'], result_ref['solution'])"
      ],
      "execution_count": 0,
      "outputs": [
        {
          "output_type": "stream",
          "text": [
            "/usr/local/lib/python3.6/dist-packages/qiskit/providers/ibmq/ibmqfactory.py:547: DeprecationWarning: IBMQ.backends() is being deprecated. Please use IBMQ.get_provider() to retrieve a provider and AccountProvider.backends() to find its backends.\n",
            "  DeprecationWarning)\n",
            "/usr/local/lib/python3.6/dist-packages/qiskit/providers/ibmq/ibmqfactory.py:547: DeprecationWarning: IBMQ.backends() is being deprecated. Please use IBMQ.get_provider() to retrieve a provider and AccountProvider.backends() to find its backends.\n",
            "  DeprecationWarning)\n"
          ],
          "name": "stderr"
        },
        {
          "output_type": "stream",
          "text": [
            "solution  [0.14223-5.e-05j 0.28622+7.e-05j]\n",
            "classical solution  [0.14286 0.28571]\n",
            "probability 0.000316\n",
            "fidelity 0.999994\n"
          ],
          "name": "stdout"
        }
      ]
    },
    {
      "cell_type": "code",
      "metadata": {
        "id": "ft1uCzBMt91I",
        "colab_type": "code",
        "outputId": "81dc38e8-abfa-4e92-c411-9722dd2d08a0",
        "colab": {
          "base_uri": "https://localhost:8080/",
          "height": 50
        }
      },
      "source": [
        "circ = print_circuit_depth_and_width(result)"
      ],
      "execution_count": 0,
      "outputs": [
        {
          "output_type": "stream",
          "text": [
            "Circuit_width:  11\n",
            "Circuit_depth:  73313\n"
          ],
          "name": "stdout"
        }
      ]
    },
    {
      "cell_type": "code",
      "metadata": {
        "id": "UZlrxKCysK6R",
        "colab_type": "code",
        "colab": {}
      },
      "source": [
        "# make the dictionary of the matrix\n",
        "\n",
        "nondiagonal_params_2 = {\n",
        "    'Probability': result['probability_result'],\n",
        "    'Fidelity': fid,\n",
        "    'Circuit': circ,\n",
        "    'Name': 'nondiagonal_params_2'\n",
        "}\n",
        "\n",
        "elements(nondiagonal_params_2)"
      ],
      "execution_count": 0,
      "outputs": []
    },
    {
      "cell_type": "markdown",
      "metadata": {
        "id": "_Wvq9k0Wueqh",
        "colab_type": "text"
      },
      "source": [
        "## 8x8 non-diagonal matrix"
      ]
    },
    {
      "cell_type": "code",
      "metadata": {
        "id": "AkpW7g0xuioZ",
        "colab_type": "code",
        "colab": {}
      },
      "source": [
        "matrix = [[4, 0, 0, 0, 0, 0, 0, 1],\n",
        "          [0, 3, 0, 0, 0, 0, 0, 0],\n",
        "          [0, 0, 8, 0, 0, 0, 0, 0],\n",
        "          [0, 0, 0, 5, 0, 0, 0, 0],\n",
        "          [0, 0, 0, 0, 2, 1, 0, 0],\n",
        "          [0, 0, 0, 0, 1, 1, 0, 0],\n",
        "          [0, 0, 0, 0, 0, 0, 1, 0],\n",
        "          [1, 0, 0, 0, 0, 0, 0, 5]]\n",
        "vector = [1, 0, 0, 0, 0, 0, 0, 1]\n",
        "params4 = params\n",
        "params4['input'] = {\n",
        "    'name': 'LinearSystemInput',\n",
        "    'matrix': matrix,\n",
        "    'vector': vector\n",
        "}"
      ],
      "execution_count": 0,
      "outputs": []
    },
    {
      "cell_type": "code",
      "metadata": {
        "id": "5ksBtIQOup0N",
        "colab_type": "code",
        "outputId": "c39b032e-ef10-4c9a-fd43-8a6842587b1b",
        "colab": {
          "base_uri": "https://localhost:8080/",
          "height": 188
        }
      },
      "source": [
        "result = run_algorithm(params4)\n",
        "print(\"solution \", np.round(result['solution'], 5))\n",
        "\n",
        "result_ref = ExactLSsolver(matrix, vector).run()\n",
        "print(\"classical solution \", np.round(result_ref['solution'], 5))\n",
        "\n",
        "print(\"probability %f\" % result['probability_result'])\n",
        "fid = fidelity(result['solution'], result_ref['solution'])"
      ],
      "execution_count": 0,
      "outputs": [
        {
          "output_type": "stream",
          "text": [
            "/usr/local/lib/python3.6/dist-packages/qiskit/providers/ibmq/ibmqfactory.py:547: DeprecationWarning: IBMQ.backends() is being deprecated. Please use IBMQ.get_provider() to retrieve a provider and AccountProvider.backends() to find its backends.\n",
            "  DeprecationWarning)\n",
            "/usr/local/lib/python3.6/dist-packages/qiskit/providers/ibmq/ibmqfactory.py:547: DeprecationWarning: IBMQ.backends() is being deprecated. Please use IBMQ.get_provider() to retrieve a provider and AccountProvider.backends() to find its backends.\n",
            "  DeprecationWarning)\n"
          ],
          "name": "stderr"
        },
        {
          "output_type": "stream",
          "text": [
            "solution  [ 0.21016+0.j  0.     +0.j  0.     +0.j  0.     +0.j  0.     +0.j\n",
            " -0.     +0.j -0.     -0.j  0.1582 -0.j]\n",
            "classical solution  [0.21053 0.      0.      0.      0.      0.      0.      0.15789]\n",
            "probability 0.001002\n",
            "fidelity 0.999997\n"
          ],
          "name": "stdout"
        }
      ]
    },
    {
      "cell_type": "code",
      "metadata": {
        "id": "sMP1XDEjur27",
        "colab_type": "code",
        "outputId": "47d08e47-b1a7-4f34-9ab9-027f338daec3",
        "colab": {
          "base_uri": "https://localhost:8080/",
          "height": 50
        }
      },
      "source": [
        "circ = print_circuit_depth_and_width(result)"
      ],
      "execution_count": 0,
      "outputs": [
        {
          "output_type": "stream",
          "text": [
            "Circuit_width:  13\n",
            "Circuit_depth:  738340\n"
          ],
          "name": "stdout"
        }
      ]
    },
    {
      "cell_type": "code",
      "metadata": {
        "id": "LufuQ4-isbO6",
        "colab_type": "code",
        "colab": {}
      },
      "source": [
        "# make the dictionary of the matrix\n",
        "\n",
        "nondiagonal_params_8 = {\n",
        "    'Probability': result['probability_result'],\n",
        "    'Fidelity': fid,\n",
        "    'Circuit': circ,\n",
        "    'Name': 'nondiagonal_params_8'\n",
        "}\n",
        "\n",
        "elements(nondiagonal_params_8)"
      ],
      "execution_count": 0,
      "outputs": []
    },
    {
      "cell_type": "markdown",
      "metadata": {
        "id": "azr4bJ7zmRQm",
        "colab_type": "text"
      },
      "source": [
        "## 8*8 Diagonal Matrix"
      ]
    },
    {
      "cell_type": "code",
      "metadata": {
        "id": "-QvanfjzmYqO",
        "colab_type": "code",
        "colab": {}
      },
      "source": [
        "matrix = [[4, 0, 0, 0, 0, 0, 0, 0],\n",
        "          [0, 3, 0, 0, 0, 0, 0, 0],\n",
        "          [0, 0, 8, 0, 0, 0, 0, 0],\n",
        "          [0, 0, 0, 5, 0, 0, 0, 0],\n",
        "          [0, 0, 0, 0, 2, 0, 0, 0],\n",
        "          [0, 0, 0, 0, 0, 1, 0, 0],\n",
        "          [0, 0, 0, 0, 0, 0, 1, 0],\n",
        "          [0, 0, 0, 0, 0, 0, 0, 5]]\n",
        "vector = [1, 0, 0, 0, 0, 0, 0, 1]\n",
        "params4 = params\n",
        "params4['input'] = {\n",
        "    'name': 'LinearSystemInput',\n",
        "    'matrix': matrix,\n",
        "    'vector': vector\n",
        "}"
      ],
      "execution_count": 0,
      "outputs": []
    },
    {
      "cell_type": "code",
      "metadata": {
        "id": "I1jzFJw4mvit",
        "colab_type": "code",
        "outputId": "b2baeac8-793e-4814-b47a-ece764807230",
        "colab": {
          "base_uri": "https://localhost:8080/",
          "height": 188
        }
      },
      "source": [
        "result = run_algorithm(params4)\n",
        "print(\"solution \", np.round(result['solution'], 5))\n",
        "\n",
        "result_ref = ExactLSsolver(matrix, vector).run()\n",
        "print(\"classical solution \", np.round(result_ref['solution'], 5))\n",
        "\n",
        "print(\"probability %f\" % result['probability_result'])\n",
        "fid = fidelity(result['solution'], result_ref['solution'])"
      ],
      "execution_count": 0,
      "outputs": [
        {
          "output_type": "stream",
          "text": [
            "/usr/local/lib/python3.6/dist-packages/qiskit/providers/ibmq/ibmqfactory.py:547: DeprecationWarning: IBMQ.backends() is being deprecated. Please use IBMQ.get_provider() to retrieve a provider and AccountProvider.backends() to find its backends.\n",
            "  DeprecationWarning)\n",
            "/usr/local/lib/python3.6/dist-packages/qiskit/providers/ibmq/ibmqfactory.py:547: DeprecationWarning: IBMQ.backends() is being deprecated. Please use IBMQ.get_provider() to retrieve a provider and AccountProvider.backends() to find its backends.\n",
            "  DeprecationWarning)\n"
          ],
          "name": "stderr"
        },
        {
          "output_type": "stream",
          "text": [
            "solution  [0.24927+0.j 0.     +0.j 0.     +0.j 0.     +0.j 0.     +0.j 0.     +0.j\n",
            " 0.     +0.j 0.20059+0.j]\n",
            "classical solution  [0.25 0.   0.   0.   0.   0.   0.   0.2 ]\n",
            "probability 0.000982\n",
            "fidelity 0.999992\n"
          ],
          "name": "stdout"
        }
      ]
    },
    {
      "cell_type": "code",
      "metadata": {
        "id": "S_BLcZO4mytr",
        "colab_type": "code",
        "outputId": "3adfd70f-b74e-48db-b02f-d9ff97c39c9e",
        "colab": {
          "base_uri": "https://localhost:8080/",
          "height": 50
        }
      },
      "source": [
        "circ = print_circuit_depth_and_width(result)"
      ],
      "execution_count": 0,
      "outputs": [
        {
          "output_type": "stream",
          "text": [
            "Circuit_width:  13\n",
            "Circuit_depth:  248342\n"
          ],
          "name": "stdout"
        }
      ]
    },
    {
      "cell_type": "code",
      "metadata": {
        "id": "0Xp2WfFKsqv5",
        "colab_type": "code",
        "colab": {}
      },
      "source": [
        "# make the dictionary of the matrix\n",
        "\n",
        "diagonal_params_8 = {\n",
        "    'Probability': result['probability_result'],\n",
        "    'Fidelity': fid,\n",
        "    'Circuit': circ,\n",
        "    'Name': 'diagonal_params_8'\n",
        "}\n",
        "elements(diagonal_params_8)"
      ],
      "execution_count": 0,
      "outputs": []
    },
    {
      "cell_type": "markdown",
      "metadata": {
        "id": "Da7x2DwcuxgJ",
        "colab_type": "text"
      },
      "source": [
        "## 4x4 Non-diagonal randomly-generated matrix "
      ]
    },
    {
      "cell_type": "code",
      "metadata": {
        "id": "YM4TXdUAu22F",
        "colab_type": "code",
        "colab": {}
      },
      "source": [
        "params5 = params\n",
        "params5['algorithm'] = {\n",
        "    'truncate_powerdim': False,\n",
        "    'truncate_hermitian': False\n",
        "}\n",
        "params5['reciprocal'] = {\n",
        "    'name': 'Lookup',\n",
        "    'negative_evals': True\n",
        "}\n",
        "params5['eigs'] = {\n",
        "    'expansion_mode': 'suzuki',\n",
        "    'expansion_order': 2,\n",
        "    'name': 'EigsQPE',\n",
        "    'negative_evals': True,\n",
        "    'num_ancillae': 6,\n",
        "    'num_time_slices': 70\n",
        "}\n",
        "params5['initial_state'] = {\n",
        "    'name': 'CUSTOM'\n",
        "}\n",
        "params5['iqft'] = {\n",
        "    'name': 'STANDARD'\n",
        "}\n",
        "params5['qft'] = {\n",
        "    'name': 'STANDARD'\n",
        "}"
      ],
      "execution_count": 0,
      "outputs": []
    },
    {
      "cell_type": "code",
      "metadata": {
        "id": "fxettqIBx33s",
        "colab_type": "code",
        "outputId": "2f091ba8-25e5-481b-e722-79dbfd59faad",
        "colab": {
          "base_uri": "https://localhost:8080/",
          "height": 168
        }
      },
      "source": [
        "matrix = random_hermitian(4)\n",
        "vector = [1, 2, 3, 1]\n",
        "\n",
        "print(\"random matrix:\")\n",
        "m = np.array(matrix)\n",
        "print(np.round(m, 3))\n",
        "\n",
        "algo_input = LinearSystemInput(matrix=matrix, vector=vector)\n",
        "hhl = HHL.init_params(params5, algo_input)\n",
        "backend = BasicAer.get_backend('statevector_simulator')\n",
        "quantum_instance = QuantumInstance(backend=backend)\n",
        "result = hhl.run(quantum_instance)\n",
        "print(\"solution \", np.round(result['solution'], 5))\n",
        "\n",
        "result_ref = ExactLSsolver(matrix, vector).run()\n",
        "print(\"classical solution \", np.round(result_ref['solution'], 5))\n",
        "\n",
        "print(\"probability %f\" % result['probability_result'])\n",
        "fid = fidelity(result['solution'], result_ref['solution'])"
      ],
      "execution_count": 0,
      "outputs": [
        {
          "output_type": "stream",
          "text": [
            "random matrix:\n",
            "[[ 0.786+0.j     0.107-0.071j -0.056-0.152j -0.165-0.044j]\n",
            " [ 0.107+0.071j  0.83 +0.j     0.176+0.077j -0.033+0.129j]\n",
            " [-0.056+0.152j  0.176-0.077j  0.334-0.j     0.093+0.051j]\n",
            " [-0.165+0.044j -0.033-0.129j  0.093-0.051j  0.552+0.j   ]]\n",
            "solution  [ 2.40416+2.73931j  0.3257 -1.61977j 10.72586-0.34047j  1.36743+1.67322j]\n",
            "classical solution  [ 2.40896+2.70987j  0.34046-1.61083j 10.67383-0.38112j  1.38202+1.65516j]\n",
            "probability 0.005583\n",
            "fidelity 0.999994\n"
          ],
          "name": "stdout"
        }
      ]
    },
    {
      "cell_type": "code",
      "metadata": {
        "id": "9GiQDyUoyNiL",
        "colab_type": "code",
        "outputId": "735afd29-5466-40ed-a3e3-62dcc7b71635",
        "colab": {
          "base_uri": "https://localhost:8080/",
          "height": 50
        }
      },
      "source": [
        "circ = print_circuit_depth_and_width(result)"
      ],
      "execution_count": 0,
      "outputs": [
        {
          "output_type": "stream",
          "text": [
            "Circuit_width:  12\n",
            "Circuit_depth:  973521\n"
          ],
          "name": "stdout"
        }
      ]
    },
    {
      "cell_type": "code",
      "metadata": {
        "id": "TtVbl7H9swPi",
        "colab_type": "code",
        "colab": {}
      },
      "source": [
        "# make the dictionary of the matrix\n",
        "\n",
        "nondiagonal_params_4 = {\n",
        "    'Probability': result['probability_result'],\n",
        "    'Fidelity': fid,\n",
        "    'Circuit': circ,\n",
        "    'Name': 'nondiagonal_params_4'\n",
        "}\n",
        "elements(nondiagonal_params_4)"
      ],
      "execution_count": 0,
      "outputs": []
    },
    {
      "cell_type": "markdown",
      "metadata": {
        "id": "Y69SDcDXoyAk",
        "colab_type": "text"
      },
      "source": [
        "## 4*4 Diagonal Matrix"
      ]
    },
    {
      "cell_type": "code",
      "metadata": {
        "id": "ncIZoQBOo4ce",
        "colab_type": "code",
        "outputId": "8e809468-ba3e-45b1-d2f4-eda8fc578638",
        "colab": {
          "base_uri": "https://localhost:8080/",
          "height": 168
        }
      },
      "source": [
        "matrix = [  [ 0.786+0.j     ,        0         ,      0         ,      0],\n",
        "            [ 0             ,    0.83 +0.j     ,      0         ,      0],\n",
        "            [ 0             ,        0         ,  0.334-0.j     ,      0],\n",
        "            [ 0             ,        0         ,      0         ,  0.552+0.j]  ]\n",
        "vector = [1, 2, 3, 1]\n",
        "\n",
        "print(\"random matrix:\")\n",
        "m = np.array(matrix)\n",
        "print(np.round(m, 3))\n",
        "\n",
        "algo_input = LinearSystemInput(matrix=matrix, vector=vector)\n",
        "hhl = HHL.init_params(params5, algo_input)\n",
        "backend = BasicAer.get_backend('statevector_simulator')\n",
        "quantum_instance = QuantumInstance(backend=backend)\n",
        "result = hhl.run(quantum_instance)\n",
        "print(\"solution \", np.round(result['solution'], 5))\n",
        "\n",
        "result_ref = ExactLSsolver(matrix, vector).run()\n",
        "print(\"classical solution \", np.round(result_ref['solution'], 5))\n",
        "\n",
        "print(\"probability %f\" % result['probability_result'])\n",
        "fid = fidelity(result['solution'], result_ref['solution'])"
      ],
      "execution_count": 0,
      "outputs": [
        {
          "output_type": "stream",
          "text": [
            "random matrix:\n",
            "[[0.786+0.j 0.   +0.j 0.   +0.j 0.   +0.j]\n",
            " [0.   +0.j 0.83 +0.j 0.   +0.j 0.   +0.j]\n",
            " [0.   +0.j 0.   +0.j 0.334+0.j 0.   +0.j]\n",
            " [0.   +0.j 0.   +0.j 0.   +0.j 0.552+0.j]]\n",
            "solution  [1.27413+0.j 2.4138 +0.j 8.97434+0.j 1.81038+0.j]\n",
            "classical solution  [1.27226+0.j 2.40964+0.j 8.98204+0.j 1.81159+0.j]\n",
            "probability 0.001285\n",
            "fidelity 1.000000\n"
          ],
          "name": "stdout"
        }
      ]
    },
    {
      "cell_type": "code",
      "metadata": {
        "id": "hN529zM5s92o",
        "colab_type": "code",
        "outputId": "497b15c2-fdcd-42cd-9b07-3ed722582d5e",
        "colab": {
          "base_uri": "https://localhost:8080/",
          "height": 50
        }
      },
      "source": [
        "circ = print_circuit_depth_and_width(result)"
      ],
      "execution_count": 0,
      "outputs": [
        {
          "output_type": "stream",
          "text": [
            "Circuit_width:  12\n",
            "Circuit_depth:  130723\n"
          ],
          "name": "stdout"
        }
      ]
    },
    {
      "cell_type": "code",
      "metadata": {
        "id": "Yke48hics977",
        "colab_type": "code",
        "colab": {}
      },
      "source": [
        "# make the dictionary of the matrix\n",
        "\n",
        "diagonal_params_4 = {\n",
        "    'Probability': result['probability_result'],\n",
        "    'Fidelity': fid,\n",
        "    'Circuit': circ,\n",
        "    'Name': 'diagonal_params_4'\n",
        "}\n",
        "elements(diagonal_params_4)"
      ],
      "execution_count": 0,
      "outputs": []
    },
    {
      "cell_type": "code",
      "metadata": {
        "id": "bmCC9fMlOXK7",
        "colab_type": "code",
        "outputId": "2481cb6c-bfea-4235-b478-b3dfa6cc628d",
        "colab": {
          "base_uri": "https://localhost:8080/",
          "height": 54
        }
      },
      "source": [
        "print(ele)"
      ],
      "execution_count": 0,
      "outputs": [
        {
          "output_type": "stream",
          "text": [
            "[{'Probability': 0.02462968466484279, 'Fidelity': 0.9993886637768511, 'Circuit': (7, 12256), 'Name': 'diagonal_params_2'}, {'Probability': 0.00031603500306912573, 'Fidelity': 0.9999938758457477, 'Circuit': (11, 73313), 'Name': 'nondiagonal_params_2'}, {'Probability': 0.0010020651530008172, 'Fidelity': 0.9999968262519785, 'Circuit': (13, 738340), 'Name': 'nondiagonal_params_8'}, {'Probability': 0.0009815877702259298, 'Fidelity': 0.999991801260599, 'Circuit': (13, 248342), 'Name': 'diagonal_params_8'}, {'Probability': 0.005583121066501396, 'Fidelity': 0.9999938637567294, 'Circuit': (12, 973521), 'Name': 'nondiagonal_params_4'}, {'Probability': 0.0012852992565193918, 'Fidelity': 0.9999995230857985, 'Circuit': (12, 130723), 'Name': 'diagonal_params_4'}, {'Probability': 0.03323013047742795, 'Fidelity': 0.12106894273079506, 'Circuit': (7, 2054), 'Name': 'density_params_2'}]\n"
          ],
          "name": "stdout"
        }
      ]
    },
    {
      "cell_type": "markdown",
      "metadata": {
        "id": "ftFdZkiByUx6",
        "colab_type": "text"
      },
      "source": [
        "## Random Sparse Hermitian Matrix\n",
        "\n"
      ]
    },
    {
      "cell_type": "markdown",
      "metadata": {
        "id": "eRw9Ay-Yyffg",
        "colab_type": "text"
      },
      "source": [
        "### Density 0.5"
      ]
    },
    {
      "cell_type": "markdown",
      "metadata": {
        "id": "D_B6KWHfyv8T",
        "colab_type": "text"
      },
      "source": [
        "#### Shape 2*2"
      ]
    },
    {
      "cell_type": "code",
      "metadata": {
        "id": "rbtQ24XZ6B5M",
        "colab_type": "code",
        "colab": {}
      },
      "source": [
        "params = {\n",
        "    'problem': {\n",
        "        'name': 'linear_system'\n",
        "    },\n",
        "    'algorithm': {\n",
        "        'name': 'HHL'\n",
        "    },\n",
        "    'eigs': {\n",
        "        'expansion_mode': 'suzuki',\n",
        "        'expansion_order': 2,\n",
        "        'name': 'EigsQPE',\n",
        "        'num_ancillae': 3,\n",
        "        'num_time_slices': 50\n",
        "    },\n",
        "    'reciprocal': {\n",
        "        'name': 'Lookup'\n",
        "    },\n",
        "    'backend': {\n",
        "        'provider': 'qiskit.BasicAer',\n",
        "        'name': 'statevector_simulator'\n",
        "    }\n",
        "}"
      ],
      "execution_count": 0,
      "outputs": []
    },
    {
      "cell_type": "code",
      "metadata": {
        "id": "4WyQcOZqaGyv",
        "colab_type": "code",
        "outputId": "7c2d6bc9-be9e-44bb-e0af-6dff9c154733",
        "colab": {
          "base_uri": "https://localhost:8080/",
          "height": 34
        }
      },
      "source": [
        "x = random_sparse_hermitian_matrix(2,0.5)\n",
        "x = x.tolist()\n",
        "vector = [1, 4]\n",
        "params['input'] = {\n",
        "    'name': 'LinearSystemInput',\n",
        "    'matrix': x,\n",
        "    'vector': vector\n",
        "}\n",
        "print(x)"
      ],
      "execution_count": 0,
      "outputs": [
        {
          "output_type": "stream",
          "text": [
            "[[-3.9925891130337505, -1.041308694968361], [-1.041308694968361, 0.0]]\n"
          ],
          "name": "stdout"
        }
      ]
    },
    {
      "cell_type": "code",
      "metadata": {
        "id": "YxvMaa3AahL5",
        "colab_type": "code",
        "outputId": "4e773fe1-66db-4259-a7c1-fbdb921f210f",
        "colab": {
          "base_uri": "https://localhost:8080/",
          "height": 171
        }
      },
      "source": [
        "result = run_algorithm(params)\n",
        "print(\"solution \", np.round(result['solution'], 5))\n",
        "\n",
        "result_ref = ExactLSsolver(x, vector).run()\n",
        "print(\"classical solution \", np.round(result_ref['solution'], 5))\n",
        "\n",
        "print(\"probability %f\" % result['probability_result'])\n",
        "fid = fidelity(result['solution'], result_ref['solution'])"
      ],
      "execution_count": 0,
      "outputs": [
        {
          "output_type": "stream",
          "text": [
            "/usr/local/lib/python3.6/dist-packages/qiskit/providers/ibmq/ibmqfactory.py:547: DeprecationWarning: IBMQ.backends() is being deprecated. Please use IBMQ.get_provider() to retrieve a provider and AccountProvider.backends() to find its backends.\n",
            "  DeprecationWarning)\n",
            "/usr/local/lib/python3.6/dist-packages/qiskit/providers/ibmq/ibmqfactory.py:547: DeprecationWarning: IBMQ.backends() is being deprecated. Please use IBMQ.get_provider() to retrieve a provider and AccountProvider.backends() to find its backends.\n",
            "  DeprecationWarning)\n"
          ],
          "name": "stderr"
        },
        {
          "output_type": "stream",
          "text": [
            "solution  [0.73088+0.j 1.08917+0.j]\n",
            "classical solution  [-3.84132 13.76807]\n",
            "probability 0.099122\n",
            "fidelity 0.422602\n"
          ],
          "name": "stdout"
        }
      ]
    },
    {
      "cell_type": "code",
      "metadata": {
        "id": "sWe6Jc5VanG9",
        "colab_type": "code",
        "outputId": "8bece40d-3074-41da-fe20-f27f29ebd375",
        "colab": {
          "base_uri": "https://localhost:8080/",
          "height": 50
        }
      },
      "source": [
        "circ = print_circuit_depth_and_width(result)"
      ],
      "execution_count": 0,
      "outputs": [
        {
          "output_type": "stream",
          "text": [
            "Circuit_width:  7\n",
            "Circuit_depth:  30254\n"
          ],
          "name": "stdout"
        }
      ]
    },
    {
      "cell_type": "code",
      "metadata": {
        "id": "YYQeMim7-rfw",
        "colab_type": "code",
        "colab": {}
      },
      "source": [
        "density_params_2 = {\n",
        "    'Probability': result['probability_result'],\n",
        "    'Fidelity': fid,\n",
        "    'Circuit': circ,\n",
        "    'Name': 'density_params_2'\n",
        "}\n",
        "elements(density_params_2)"
      ],
      "execution_count": 0,
      "outputs": []
    },
    {
      "cell_type": "markdown",
      "metadata": {
        "id": "X3D97G0Jy4On",
        "colab_type": "text"
      },
      "source": [
        "#### Shape 4*4"
      ]
    },
    {
      "cell_type": "code",
      "metadata": {
        "id": "rKPgPmzYy6gU",
        "colab_type": "code",
        "outputId": "8a8441f5-f861-45c9-945b-22d215190bb6",
        "colab": {
          "base_uri": "https://localhost:8080/",
          "height": 54
        }
      },
      "source": [
        "x = random_sparse_hermitian_matrix(4,0.5)\n",
        "x = x.tolist()\n",
        "vector = [1, 2, 3, 1]\n",
        "params['input'] = {\n",
        "    'name': 'LinearSystemInput',\n",
        "    'matrix': x,\n",
        "    'vector': vector\n",
        "}\n",
        "print(x)"
      ],
      "execution_count": 0,
      "outputs": [
        {
          "output_type": "stream",
          "text": [
            "[[0.0, 0.0, 1.780539219796637, -2.104176549877987], [0.0, 0.0, 0.0, 0.004462006650995319], [1.780539219796637, 0.0, 1.3629544177740913, 4.009063727851144], [-2.104176549877987, 0.004462006650995319, 4.009063727851144, -2.7256762443972247]]\n"
          ],
          "name": "stdout"
        }
      ]
    },
    {
      "cell_type": "code",
      "metadata": {
        "id": "jxTDWQ2FzdY8",
        "colab_type": "code",
        "outputId": "7d78e0fd-9122-49d8-e0c6-188d46eef7f1",
        "colab": {
          "base_uri": "https://localhost:8080/",
          "height": 171
        }
      },
      "source": [
        "result = run_algorithm(params)\n",
        "print(\"solution \", np.round(result['solution'], 5))\n",
        "\n",
        "result_ref = ExactLSsolver(x, vector).run()\n",
        "print(\"classical solution \", np.round(result_ref['solution'], 5))\n",
        "\n",
        "print(\"probability %f\" % result['probability_result'])\n",
        "fid = fidelity(result['solution'], result_ref['solution'])"
      ],
      "execution_count": 0,
      "outputs": [
        {
          "output_type": "stream",
          "text": [
            "/usr/local/lib/python3.6/dist-packages/qiskit/providers/ibmq/ibmqfactory.py:547: DeprecationWarning: IBMQ.backends() is being deprecated. Please use IBMQ.get_provider() to retrieve a provider and AccountProvider.backends() to find its backends.\n",
            "  DeprecationWarning)\n",
            "/usr/local/lib/python3.6/dist-packages/qiskit/providers/ibmq/ibmqfactory.py:547: DeprecationWarning: IBMQ.backends() is being deprecated. Please use IBMQ.get_provider() to retrieve a provider and AccountProvider.backends() to find its backends.\n",
            "  DeprecationWarning)\n"
          ],
          "name": "stderr"
        },
        {
          "output_type": "stream",
          "text": [
            "solution  [ 5.4247e-01-0.j -2.0000e-04+0.j  9.2328e-01+0.j  2.3181e-01+0.j]\n",
            "classical solution  [-1.41344884e+03 -8.68952996e+05  5.30262170e+02  4.48228830e+02]\n",
            "probability 0.135214\n",
            "fidelity 0.000000\n"
          ],
          "name": "stdout"
        }
      ]
    },
    {
      "cell_type": "code",
      "metadata": {
        "id": "loNzeJ-azhqs",
        "colab_type": "code",
        "outputId": "3684f7a5-e21c-42fb-ecad-4bbaf9245dc9",
        "colab": {
          "base_uri": "https://localhost:8080/",
          "height": 50
        }
      },
      "source": [
        "circ = print_circuit_depth_and_width(result)"
      ],
      "execution_count": 0,
      "outputs": [
        {
          "output_type": "stream",
          "text": [
            "Circuit_width:  8\n",
            "Circuit_depth:  165262\n"
          ],
          "name": "stdout"
        }
      ]
    },
    {
      "cell_type": "code",
      "metadata": {
        "id": "LxklvtFj-4cB",
        "colab_type": "code",
        "colab": {}
      },
      "source": [
        "density_params_4 = {\n",
        "    'Probability': result['probability_result'],\n",
        "    'Fidelity': fid,\n",
        "    'Circuit': circ,\n",
        "    'Name': 'density_params_4'\n",
        "}\n",
        "elements(density_params_4)"
      ],
      "execution_count": 0,
      "outputs": []
    },
    {
      "cell_type": "markdown",
      "metadata": {
        "id": "FUOZRCm0zkqF",
        "colab_type": "text"
      },
      "source": [
        "#### Shape 8*8"
      ]
    },
    {
      "cell_type": "code",
      "metadata": {
        "colab_type": "code",
        "id": "MU2VjJwAzybO",
        "outputId": "1ae03bd5-7f26-4933-9da7-9d7e2d77ccf7",
        "colab": {
          "base_uri": "https://localhost:8080/",
          "height": 54
        }
      },
      "source": [
        "x = random_sparse_hermitian_matrix(8,0.5)\n",
        "x = x.tolist()\n",
        "vector = [1, 0, 0, 0, 0, 0, 0, 1]\n",
        "params['input'] = {\n",
        "    'name': 'LinearSystemInput',\n",
        "    'matrix': x,\n",
        "    'vector': vector\n",
        "}\n",
        "print(x)"
      ],
      "execution_count": 0,
      "outputs": [
        {
          "output_type": "stream",
          "text": [
            "[[0.0, -2.785843077824771, 0.0, -0.0012046470780860134, -0.47659462742997244, 0.8175438103235502, -1.0227795829221893, 0.0], [-2.785843077824771, 2.2922822082339094, 0.0, 0.0, 0.0, 0.0, 0.138964207019234, -2.444926335886532], [0.0, 0.0, 3.7333335839743786, 0.0, 0.0, 0.0, 1.81110037932207, 3.6890885206142308], [-0.0012046470780860134, 0.0, 0.0, 0.0, -0.7465764694177346, -1.8107709702074826, 0.8981523331401593, 2.5378372397022915], [-0.47659462742997244, 0.0, 0.0, -0.7465764694177346, 0.030208534151563646, 0.0, 0.0, 0.0], [0.8175438103235502, 0.0, 0.0, -1.8107709702074826, 0.0, 0.0, 0.0, -1.8658082688707], [-1.0227795829221893, 0.138964207019234, 1.81110037932207, 0.8981523331401593, 0.0, 0.0, 0.0, 2.720100292244544], [0.0, -2.444926335886532, 3.6890885206142308, 2.5378372397022915, 0.0, -1.8658082688707, 2.720100292244544, 0.21965732442139177]]\n"
          ],
          "name": "stdout"
        }
      ]
    },
    {
      "cell_type": "code",
      "metadata": {
        "id": "1hfWF6HZz6ti",
        "colab_type": "code",
        "outputId": "6062b8e1-813d-4c82-be08-90684401cf34",
        "colab": {
          "base_uri": "https://localhost:8080/",
          "height": 188
        }
      },
      "source": [
        "result = run_algorithm(params)\n",
        "print(\"solution \", np.round(result['solution'], 5))\n",
        "\n",
        "result_ref = ExactLSsolver(x, vector).run()\n",
        "print(\"classical solution \", np.round(result_ref['solution'], 5))\n",
        "\n",
        "print(\"probability %f\" % result['probability_result'])\n",
        "fid = fidelity(result['solution'], result_ref['solution'])"
      ],
      "execution_count": 0,
      "outputs": [
        {
          "output_type": "stream",
          "text": [
            "/usr/local/lib/python3.6/dist-packages/qiskit/providers/ibmq/ibmqfactory.py:547: DeprecationWarning: IBMQ.backends() is being deprecated. Please use IBMQ.get_provider() to retrieve a provider and AccountProvider.backends() to find its backends.\n",
            "  DeprecationWarning)\n",
            "/usr/local/lib/python3.6/dist-packages/qiskit/providers/ibmq/ibmqfactory.py:547: DeprecationWarning: IBMQ.backends() is being deprecated. Please use IBMQ.get_provider() to retrieve a provider and AccountProvider.backends() to find its backends.\n",
            "  DeprecationWarning)\n"
          ],
          "name": "stderr"
        },
        {
          "output_type": "stream",
          "text": [
            "solution  [ 0.1641 -0.j -0.11951+0.j -0.00188-0.j  0.01459-0.j -0.00169-0.j\n",
            " -0.00152+0.j -0.00455-0.j  0.15253-0.j]\n",
            "classical solution  [-0.11852 -0.25834  0.08327  0.05447 -0.52378  0.0899   0.04181 -0.10479]\n",
            "probability 0.087196\n",
            "fidelity 0.000453\n"
          ],
          "name": "stdout"
        }
      ]
    },
    {
      "cell_type": "code",
      "metadata": {
        "id": "KmyIrJ8Uz74n",
        "colab_type": "code",
        "outputId": "212bed17-0bf2-43fb-b5f4-1d81af9b516b",
        "colab": {
          "base_uri": "https://localhost:8080/",
          "height": 50
        }
      },
      "source": [
        "circ = print_circuit_depth_and_width(result)"
      ],
      "execution_count": 0,
      "outputs": [
        {
          "output_type": "stream",
          "text": [
            "Circuit_width:  9\n",
            "Circuit_depth:  801281\n"
          ],
          "name": "stdout"
        }
      ]
    },
    {
      "cell_type": "code",
      "metadata": {
        "id": "0RHPs7yG_H0b",
        "colab_type": "code",
        "colab": {}
      },
      "source": [
        "density_params_8 = {\n",
        "    'Probability': result['probability_result'],\n",
        "    'Fidelity': fid,\n",
        "    'Circuit': circ,\n",
        "    'Name': 'density_params_8'\n",
        "}\n",
        "elements(density_params_8)"
      ],
      "execution_count": 0,
      "outputs": []
    },
    {
      "cell_type": "code",
      "metadata": {
        "id": "oQofkJVO_ua_",
        "colab_type": "code",
        "outputId": "1837c3e6-bc36-450d-c921-9403afab4e0d",
        "colab": {
          "base_uri": "https://localhost:8080/",
          "height": 54
        }
      },
      "source": [
        "print(ele)"
      ],
      "execution_count": 0,
      "outputs": [
        {
          "output_type": "stream",
          "text": [
            "[{'Probability': 0.09912177755728116, 'Fidelity': 0.422602140608949, 'Circuit': (7, 30254), 'Name': 'density_params_2'}, {'Probability': 0.13521380264978825, 'Fidelity': 1.397700321478028e-12, 'Circuit': (8, 165262), 'Name': 'density_params_4'}, {'Probability': 0.08719559183485319, 'Fidelity': 0.00045310384745803116, 'Circuit': (9, 801281), 'Name': 'density_params_8'}]\n"
          ],
          "name": "stdout"
        }
      ]
    },
    {
      "cell_type": "markdown",
      "metadata": {
        "colab_type": "text",
        "id": "i1f1MVUZta3J"
      },
      "source": [
        "### Density 1"
      ]
    },
    {
      "cell_type": "markdown",
      "metadata": {
        "colab_type": "text",
        "id": "X-urn2seta3M"
      },
      "source": [
        "#### Shape 2*2"
      ]
    },
    {
      "cell_type": "code",
      "metadata": {
        "colab_type": "code",
        "id": "ZpbCLfumta3N",
        "outputId": "f6c2e1ae-4960-4eb6-9c38-f42812b90736",
        "colab": {
          "base_uri": "https://localhost:8080/",
          "height": 34
        }
      },
      "source": [
        "x = random_sparse_hermitian_matrix(2,1)\n",
        "x = x.tolist()\n",
        "vector = [1, 4]\n",
        "params['input'] = {\n",
        "    'name': 'LinearSystemInput',\n",
        "    'matrix': x,\n",
        "    'vector': vector\n",
        "}\n",
        "print(x)"
      ],
      "execution_count": 0,
      "outputs": [
        {
          "output_type": "stream",
          "text": [
            "[[-1.4164170308920576, 0.5416608105842974], [0.5416608105842974, 2.5880758132463413]]\n"
          ],
          "name": "stdout"
        }
      ]
    },
    {
      "cell_type": "code",
      "metadata": {
        "colab_type": "code",
        "id": "7RG6qUo5ta3R",
        "outputId": "97bbc9ae-daf6-4513-e848-b9d55ae77660",
        "colab": {
          "base_uri": "https://localhost:8080/",
          "height": 171
        }
      },
      "source": [
        "result = run_algorithm(params)\n",
        "print(\"solution \", np.round(result['solution'], 5))\n",
        "\n",
        "result_ref = ExactLSsolver(x, vector).run()\n",
        "print(\"classical solution \", np.round(result_ref['solution'], 5))\n",
        "\n",
        "print(\"probability %f\" % result['probability_result'])\n",
        "fid = fidelity(result['solution'], result_ref['solution'])"
      ],
      "execution_count": 0,
      "outputs": [
        {
          "output_type": "stream",
          "text": [
            "/usr/local/lib/python3.6/dist-packages/qiskit/providers/ibmq/ibmqfactory.py:547: DeprecationWarning: IBMQ.backends() is being deprecated. Please use IBMQ.get_provider() to retrieve a provider and AccountProvider.backends() to find its backends.\n",
            "  DeprecationWarning)\n",
            "/usr/local/lib/python3.6/dist-packages/qiskit/providers/ibmq/ibmqfactory.py:547: DeprecationWarning: IBMQ.backends() is being deprecated. Please use IBMQ.get_provider() to retrieve a provider and AccountProvider.backends() to find its backends.\n",
            "  DeprecationWarning)\n"
          ],
          "name": "stderr"
        },
        {
          "output_type": "stream",
          "text": [
            "solution  [0.43338-0.e+00j 1.50056-1.e-05j]\n",
            "classical solution  [-0.10644  1.56783]\n",
            "probability 0.028234\n",
            "fidelity 0.883097\n"
          ],
          "name": "stdout"
        }
      ]
    },
    {
      "cell_type": "code",
      "metadata": {
        "colab_type": "code",
        "id": "4CbtwABlta3U",
        "outputId": "e4af5a0c-bdf6-4067-dc55-f4a72daeb5fe",
        "colab": {
          "base_uri": "https://localhost:8080/",
          "height": 50
        }
      },
      "source": [
        "circ = print_circuit_depth_and_width(result)"
      ],
      "execution_count": 0,
      "outputs": [
        {
          "output_type": "stream",
          "text": [
            "Circuit_width:  7\n",
            "Circuit_depth:  30254\n"
          ],
          "name": "stdout"
        }
      ]
    },
    {
      "cell_type": "code",
      "metadata": {
        "id": "t7_FBiEg_XSZ",
        "colab_type": "code",
        "colab": {}
      },
      "source": [
        "density_params_2_1 = {\n",
        "    'Probability': result['probability_result'],\n",
        "    'Fidelity': fid,\n",
        "    'Circuit': circ,\n",
        "    'Name': 'density_params_2_1'\n",
        "}\n",
        "elements(density_params_2_1)"
      ],
      "execution_count": 0,
      "outputs": []
    },
    {
      "cell_type": "markdown",
      "metadata": {
        "colab_type": "text",
        "id": "RPWVCMrpta3Z"
      },
      "source": [
        "#### Shape 4*4"
      ]
    },
    {
      "cell_type": "code",
      "metadata": {
        "colab_type": "code",
        "id": "T_jepv-Ita3a",
        "outputId": "3977d65c-480f-4a82-ddf6-f281a8b474a7",
        "colab": {
          "base_uri": "https://localhost:8080/",
          "height": 54
        }
      },
      "source": [
        "x = random_sparse_hermitian_matrix(4,1)\n",
        "x = x.tolist()\n",
        "vector = [1, 2, 3, 1]\n",
        "params['input'] = {\n",
        "    'name': 'LinearSystemInput',\n",
        "    'matrix': x,\n",
        "    'vector': vector\n",
        "}\n",
        "print(x)"
      ],
      "execution_count": 0,
      "outputs": [
        {
          "output_type": "stream",
          "text": [
            "[[-0.7050883842871706, 1.6489533586401084, -4.6673284361571366, -1.1217381566023612], [1.6489533586401084, 3.2336329288433094, 1.9850244553333656, -0.3641402760175156], [-4.6673284361571366, 1.9850244553333656, -2.0872141871782603, -0.07332467760550722], [-1.1217381566023612, -0.3641402760175156, -0.07332467760550722, 0.6150728862341979]]\n"
          ],
          "name": "stdout"
        }
      ]
    },
    {
      "cell_type": "code",
      "metadata": {
        "colab_type": "code",
        "id": "1RhG8480ta3d",
        "outputId": "c0d7a801-084e-4bef-ca0d-fa8925ce7bbd",
        "colab": {
          "base_uri": "https://localhost:8080/",
          "height": 171
        }
      },
      "source": [
        "result = run_algorithm(params)\n",
        "print(\"solution \", np.round(result['solution'], 5))\n",
        "\n",
        "result_ref = ExactLSsolver(x, vector).run()\n",
        "print(\"classical solution \", np.round(result_ref['solution'], 5))\n",
        "\n",
        "print(\"probability %f\" % result['probability_result'])\n",
        "fid = fidelity(result['solution'], result_ref['solution'])"
      ],
      "execution_count": 0,
      "outputs": [
        {
          "output_type": "stream",
          "text": [
            "/usr/local/lib/python3.6/dist-packages/qiskit/providers/ibmq/ibmqfactory.py:547: DeprecationWarning: IBMQ.backends() is being deprecated. Please use IBMQ.get_provider() to retrieve a provider and AccountProvider.backends() to find its backends.\n",
            "  DeprecationWarning)\n",
            "/usr/local/lib/python3.6/dist-packages/qiskit/providers/ibmq/ibmqfactory.py:547: DeprecationWarning: IBMQ.backends() is being deprecated. Please use IBMQ.get_provider() to retrieve a provider and AccountProvider.backends() to find its backends.\n",
            "  DeprecationWarning)\n"
          ],
          "name": "stderr"
        },
        {
          "output_type": "stream",
          "text": [
            "solution  [-0.-0.01851j -0.-0.56073j -0.-0.65816j -0.-0.08851j]\n",
            "classical solution  [-0.0661   1.09051 -0.32658  2.11195]\n",
            "probability 0.146572\n",
            "fidelity 0.077870\n"
          ],
          "name": "stdout"
        }
      ]
    },
    {
      "cell_type": "code",
      "metadata": {
        "colab_type": "code",
        "id": "tNk55FFita3i",
        "outputId": "06e6a0d6-0159-44dc-fb19-b6107fabbb55",
        "colab": {
          "base_uri": "https://localhost:8080/",
          "height": 50
        }
      },
      "source": [
        "circ = print_circuit_depth_and_width(result)"
      ],
      "execution_count": 0,
      "outputs": [
        {
          "output_type": "stream",
          "text": [
            "Circuit_width:  8\n",
            "Circuit_depth:  165262\n"
          ],
          "name": "stdout"
        }
      ]
    },
    {
      "cell_type": "code",
      "metadata": {
        "id": "kQwIXH-L_fGq",
        "colab_type": "code",
        "colab": {}
      },
      "source": [
        "density_params_4_1 = {\n",
        "    'Probability': result['probability_result'],\n",
        "    'Fidelity': fid,\n",
        "    'Circuit': circ,\n",
        "    'Name': 'density_params_4_1'\n",
        "}\n",
        "elements(density_params_4_1)"
      ],
      "execution_count": 0,
      "outputs": []
    },
    {
      "cell_type": "markdown",
      "metadata": {
        "colab_type": "text",
        "id": "7WTzdKc9ta3p"
      },
      "source": [
        "#### Shape 8*8"
      ]
    },
    {
      "cell_type": "code",
      "metadata": {
        "colab_type": "code",
        "id": "1ss--eEKta3q",
        "outputId": "adace462-7e7d-4002-a6e1-3d728d95cc40",
        "colab": {
          "base_uri": "https://localhost:8080/",
          "height": 54
        }
      },
      "source": [
        "x = random_sparse_hermitian_matrix(8,1)\n",
        "x = x.tolist()\n",
        "vector = [1, 0, 0, 0, 0, 0, 0, 1]\n",
        "params['input'] = {\n",
        "    'name': 'LinearSystemInput',\n",
        "    'matrix': x,\n",
        "    'vector': vector\n",
        "}\n",
        "print(x)"
      ],
      "execution_count": 0,
      "outputs": [
        {
          "output_type": "stream",
          "text": [
            "[[-0.03855278614095819, -0.46964775930783176, -0.8382922889103988, 0.8883254784128338, 0.7603128667589899, 0.01978863099557941, 2.180214170266153, 1.2046003341361413], [-0.46964775930783176, 0.49163051669644126, -1.8280478506255597, 2.41935046932938, 1.128848155072947, -0.6053685462532906, 3.9356411848211157, -1.2859496893922653], [-0.8382922889103988, -1.8280478506255597, 3.20087026939353, 1.4199706651166757, 0.22921965888526702, 0.6517419287617656, 0.903931192320679, -2.633236842331782], [0.8883254784128338, 2.41935046932938, 1.4199706651166757, 2.342771420663054, -0.8774838826226122, -3.1787187807940045, -0.21414760906208097, 1.0243480166193142], [0.7603128667589899, 1.128848155072947, 0.22921965888526702, -0.8774838826226122, 2.0245403470580685, -5.163538362484147, -3.884231811419563, 0.6537413136345654], [0.01978863099557941, -0.6053685462532906, 0.6517419287617656, -3.1787187807940045, -5.163538362484147, 1.2519654030852687, -0.7882363447575667, -1.4674303204862773], [2.180214170266153, 3.9356411848211157, 0.903931192320679, -0.21414760906208097, -3.884231811419563, -0.7882363447575667, -4.9184011372875895, -0.015167571978569676], [1.2046003341361413, -1.2859496893922653, -2.633236842331782, 1.0243480166193142, 0.6537413136345654, -1.4674303204862773, -0.015167571978569676, -1.300853205530769]]\n"
          ],
          "name": "stdout"
        }
      ]
    },
    {
      "cell_type": "code",
      "metadata": {
        "colab_type": "code",
        "id": "ATmTZcsXta3u",
        "outputId": "75357afe-f424-4dd0-fa10-4f3c65433b6d",
        "colab": {
          "base_uri": "https://localhost:8080/",
          "height": 188
        }
      },
      "source": [
        "result = run_algorithm(params)\n",
        "print(\"solution \", np.round(result['solution'], 5))\n",
        "\n",
        "result_ref = ExactLSsolver(x, vector).run()\n",
        "print(\"classical solution \", np.round(result_ref['solution'], 5))\n",
        "\n",
        "print(\"probability %f\" % result['probability_result'])\n",
        "fid = fidelity(result['solution'], result_ref['solution'])"
      ],
      "execution_count": 0,
      "outputs": [
        {
          "output_type": "stream",
          "text": [
            "/usr/local/lib/python3.6/dist-packages/qiskit/providers/ibmq/ibmqfactory.py:547: DeprecationWarning: IBMQ.backends() is being deprecated. Please use IBMQ.get_provider() to retrieve a provider and AccountProvider.backends() to find its backends.\n",
            "  DeprecationWarning)\n",
            "/usr/local/lib/python3.6/dist-packages/qiskit/providers/ibmq/ibmqfactory.py:547: DeprecationWarning: IBMQ.backends() is being deprecated. Please use IBMQ.get_provider() to retrieve a provider and AccountProvider.backends() to find its backends.\n",
            "  DeprecationWarning)\n"
          ],
          "name": "stderr"
        },
        {
          "output_type": "stream",
          "text": [
            "solution  [ 0.12072-0.j  0.00769-0.j -0.18409-0.j  0.03774-0.j -0.0483 +0.j\n",
            " -0.02266+0.j -0.00345-0.j  0.18906+0.j]\n",
            "classical solution  [ 4.28927  0.35324  1.12618 -1.652    1.06836  0.20839  1.58715 -0.44321]\n",
            "probability 0.152713\n",
            "fidelity 0.004737\n"
          ],
          "name": "stdout"
        }
      ]
    },
    {
      "cell_type": "code",
      "metadata": {
        "colab_type": "code",
        "id": "etqoeaz0ta3z",
        "outputId": "f20f03c1-6a40-48bf-a0eb-f37f142c924c",
        "colab": {
          "base_uri": "https://localhost:8080/",
          "height": 50
        }
      },
      "source": [
        "circ = print_circuit_depth_and_width(result)"
      ],
      "execution_count": 0,
      "outputs": [
        {
          "output_type": "stream",
          "text": [
            "Circuit_width:  9\n",
            "Circuit_depth:  801281\n"
          ],
          "name": "stdout"
        }
      ]
    },
    {
      "cell_type": "code",
      "metadata": {
        "id": "AYdYxtU8_qrV",
        "colab_type": "code",
        "colab": {}
      },
      "source": [
        "density_params_8_1 = {\n",
        "    'Probability': result['probability_result'],\n",
        "    'Fidelity': fid,\n",
        "    'Circuit': circ,\n",
        "    'Name': 'density_params_8_1'\n",
        "}\n",
        "elements(density_params_8_1)"
      ],
      "execution_count": 0,
      "outputs": []
    },
    {
      "cell_type": "markdown",
      "metadata": {
        "id": "eU09lQDT_vJ-",
        "colab_type": "text"
      },
      "source": [
        "# Compare Results"
      ]
    },
    {
      "cell_type": "code",
      "metadata": {
        "id": "_qQvclLx_w3p",
        "colab_type": "code",
        "colab": {}
      },
      "source": [
        "# Keep every track of every output here \n",
        "\n",
        "print(ele)"
      ],
      "execution_count": 0,
      "outputs": []
    },
    {
      "cell_type": "code",
      "metadata": {
        "id": "7TNSh_2EM-Wq",
        "colab_type": "code",
        "colab": {}
      },
      "source": [
        "d = {\n",
        "    'Diagonal': {\n",
        "        '2X2': 0.024630,\n",
        "        '4X4': 0.005583,\n",
        "        '8X8': 0.000982\n",
        "    },\n",
        "    'Non-diagonal': {\n",
        "        '2X2': 0.000316,\n",
        "        '4X4': 0.001285,\n",
        "        '8X8': 0.001002\n",
        "    }\n",
        "}"
      ],
      "execution_count": 0,
      "outputs": []
    },
    {
      "cell_type": "code",
      "metadata": {
        "id": "w6oYvJNlYXoC",
        "colab_type": "code",
        "outputId": "352f7663-a0a6-45e7-af4d-1e4b1fab0785",
        "colab": {
          "base_uri": "https://localhost:8080/",
          "height": 278
        }
      },
      "source": [
        "import matplotlib.pyplot as plt\n",
        "import pandas as pd\n",
        "\n",
        "\n",
        "pd.DataFrame(d).plot(kind='bar')\n",
        "plt.show()"
      ],
      "execution_count": 0,
      "outputs": [
        {
          "output_type": "display_data",
          "data": {
            "image/png": "[encoded data removed]",
            "text/plain": [
              "<Figure size 432x288 with 1 Axes>"
            ]
          },
          "metadata": {
            "tags": []
          }
        }
      ]
    },
    {
      "cell_type": "code",
      "metadata": {
        "id": "y2HB3BQPkEJT",
        "colab_type": "code",
        "colab": {}
      },
      "source": [
        "d = {\n",
        "    'Diagonal': {\n",
        "        '2X2': 7,\n",
        "        '4X4': 12,\n",
        "        '8X8': 13\n",
        "    },\n",
        "    'Non-diagonal': {\n",
        "        '2X2': 11,\n",
        "        '4X4': 12,\n",
        "        '8X8': 13\n",
        "    }\n",
        "}"
      ],
      "execution_count": 0,
      "outputs": []
    },
    {
      "cell_type": "code",
      "metadata": {
        "id": "LmB95nUTmchH",
        "colab_type": "code",
        "outputId": "5d48072c-1679-46c6-fad8-f92ce070e21d",
        "colab": {
          "base_uri": "https://localhost:8080/",
          "height": 278
        }
      },
      "source": [
        "ax = pd.DataFrame(d).plot(kind='bar')\n",
        "ax.set_ylabel(\"Width\")\n",
        "plt.show()"
      ],
      "execution_count": 0,
      "outputs": [
        {
          "output_type": "display_data",
          "data": {
            "image/png": "[encoded data removed]",
            "text/plain": [
              "<Figure size 432x288 with 1 Axes>"
            ]
          },
          "metadata": {
            "tags": []
          }
        }
      ]
    },
    {
      "cell_type": "code",
      "metadata": {
        "id": "yrJTsRUoptks",
        "colab_type": "code",
        "outputId": "63279b1d-5663-45c6-a4ae-e4c5e5812c6e",
        "colab": {
          "base_uri": "https://localhost:8080/",
          "height": 278
        }
      },
      "source": [
        "d = {\n",
        "    'Diagonal': {\n",
        "        '2X2': 12256,\n",
        "        '4X4': 130723,\n",
        "        '8X8': 248342\n",
        "    },\n",
        "    'Non-diagonal': {\n",
        "        '2X2': 73313,\n",
        "        '4X4': 973521,\n",
        "        '8X8': 738340\n",
        "    }\n",
        "}\n",
        "\n",
        "ax = pd.DataFrame(d).plot(kind='bar')\n",
        "ax.set_ylabel(\"Depth\")\n",
        "plt.show()"
      ],
      "execution_count": 0,
      "outputs": [
        {
          "output_type": "display_data",
          "data": {
            "image/png": "[encoded data removed]",
            "text/plain": [
              "<Figure size 432x288 with 1 Axes>"
            ]
          },
          "metadata": {
            "tags": []
          }
        }
      ]
    },
    {
      "cell_type": "code",
      "metadata": {
        "id": "HdLrx8JKBJli",
        "colab_type": "code",
        "outputId": "3347dcc7-d3dc-4336-be03-b717da3882f0",
        "colab": {
          "base_uri": "https://localhost:8080/",
          "height": 278
        }
      },
      "source": [
        "import matplotlib.pyplot as plt\n",
        "import pandas as pd\n",
        "\n",
        "d = {\n",
        "    'Density 0.5': {\n",
        "        '2X2': 0.422602,\n",
        "        '4X4': 0.000011,\n",
        "        '8X8': 0.000453\n",
        "    },\n",
        "    'Density 1': {\n",
        "        '2X2': 0.883097,\n",
        "        '4X4': 0.077870,\n",
        "        '8X8': 0.004737\n",
        "    }\n",
        "}\n",
        "\n",
        "ax = pd.DataFrame(d).plot(kind='bar')\n",
        "ax.set_ylabel(\"Depth\")\n",
        "plt.show()"
      ],
      "execution_count": 0,
      "outputs": [
        {
          "output_type": "display_data",
          "data": {
            "image/png": "[encoded data removed]",
            "text/plain": [
              "<Figure size 432x288 with 1 Axes>"
            ]
          },
          "metadata": {
            "tags": []
          }
        }
      ]
    },
    {
      "cell_type": "code",
      "metadata": {
        "id": "8Gyad1CTCH0A",
        "colab_type": "code",
        "outputId": "92c42591-38f6-411f-d61f-4ff9189fc20a",
        "colab": {
          "base_uri": "https://localhost:8080/",
          "height": 283
        }
      },
      "source": [
        "import numpy as np\n",
        "import matplotlib.pyplot as plt\n",
        " \n",
        "height = [0.883097, 0.077870, 0.004737]\n",
        "bars = ('2X2', '4X4', '8X8')\n",
        "y_pos = np.arange(len(bars))\n",
        " \n",
        "plt.bar(y_pos, height, color = 'orange')\n",
        "# plt.title('My title')\n",
        "plt.xlabel('Matrix Dimensions')\n",
        "plt.ylabel('Fidelity')\n",
        " \n",
        "plt.xticks(y_pos, bars)\n",
        " \n",
        "plt.show()\n"
      ],
      "execution_count": 0,
      "outputs": [
        {
          "output_type": "display_data",
          "data": {
            "image/png": "[encoded data removed]",
            "text/plain": [
              "<Figure size 432x288 with 1 Axes>"
            ]
          },
          "metadata": {
            "tags": []
          }
        }
      ]
    },
    {
      "cell_type": "code",
      "metadata": {
        "id": "hYVvnV1gI0gG",
        "colab_type": "code",
        "outputId": "801daa11-ad9e-4098-d174-ce0cdb712fc2",
        "colab": {
          "base_uri": "https://localhost:8080/",
          "height": 283
        }
      },
      "source": [
        "import numpy as np\n",
        "import matplotlib.pyplot as plt\n",
        " \n",
        "height = [30254, 165262, 801281]\n",
        "bars = ('2X2', '4X4', '8X8')\n",
        "y_pos = np.arange(len(bars))\n",
        " \n",
        "plt.bar(y_pos, height, color = (0.0,0.99,0.7,1))\n",
        "# plt.title('My title')\n",
        "plt.xlabel('Matrix Dimensions')\n",
        "plt.ylabel('Circuit Depth')\n",
        " \n",
        "plt.xticks(y_pos, bars)\n",
        " \n",
        "plt.show()\n"
      ],
      "execution_count": 0,
      "outputs": [
        {
          "output_type": "display_data",
          "data": {
            "image/png": "[encoded data removed]",
            "text/plain": [
              "<Figure size 432x288 with 1 Axes>"
            ]
          },
          "metadata": {
            "tags": []
          }
        }
      ]
    }
  ]
}